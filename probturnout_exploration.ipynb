{
 "cells": [
  {
   "cell_type": "markdown",
   "id": "69274bd8",
   "metadata": {},
   "source": [
    "# Data Exploration/Analysis for Probability Turnout Project"
   ]
  },
  {
   "cell_type": "markdown",
   "id": "5c28c19a",
   "metadata": {},
   "source": [
    "#### Set working directory & import datasets"
   ]
  },
  {
   "cell_type": "code",
   "execution_count": 307,
   "id": "66ed9036",
   "metadata": {
    "scrolled": true
   },
   "outputs": [
    {
     "data": {
      "text/html": [
       "<div>\n",
       "<style scoped>\n",
       "    .dataframe tbody tr th:only-of-type {\n",
       "        vertical-align: middle;\n",
       "    }\n",
       "\n",
       "    .dataframe tbody tr th {\n",
       "        vertical-align: top;\n",
       "    }\n",
       "\n",
       "    .dataframe thead th {\n",
       "        text-align: right;\n",
       "    }\n",
       "</style>\n",
       "<table border=\"1\" class=\"dataframe\">\n",
       "  <thead>\n",
       "    <tr style=\"text-align: right;\">\n",
       "      <th></th>\n",
       "      <th>County</th>\n",
       "      <th>Voters</th>\n",
       "      <th>Votes_Dem_Prim</th>\n",
       "      <th>Votes_Rep_Prim</th>\n",
       "      <th>White</th>\n",
       "      <th>Black or African American</th>\n",
       "      <th>American Indian and Alaska Native</th>\n",
       "      <th>Asian</th>\n",
       "      <th>Native Hawaiian Pacific Islander</th>\n",
       "      <th>Other Race</th>\n",
       "      <th>Median Income</th>\n",
       "      <th>Median Age</th>\n",
       "      <th>Sex Ratio</th>\n",
       "    </tr>\n",
       "  </thead>\n",
       "  <tbody>\n",
       "    <tr>\n",
       "      <th>0</th>\n",
       "      <td>ANDERSON</td>\n",
       "      <td>29128.0</td>\n",
       "      <td>918.0</td>\n",
       "      <td>7081.0</td>\n",
       "      <td>41263</td>\n",
       "      <td>12114</td>\n",
       "      <td>237</td>\n",
       "      <td>350</td>\n",
       "      <td>9</td>\n",
       "      <td>3944</td>\n",
       "      <td>19168.0</td>\n",
       "      <td>39.3</td>\n",
       "      <td>157.6</td>\n",
       "    </tr>\n",
       "    <tr>\n",
       "      <th>1</th>\n",
       "      <td>ANDREWS</td>\n",
       "      <td>10212.0</td>\n",
       "      <td>88.0</td>\n",
       "      <td>2073.0</td>\n",
       "      <td>14810</td>\n",
       "      <td>418</td>\n",
       "      <td>0</td>\n",
       "      <td>57</td>\n",
       "      <td>26</td>\n",
       "      <td>2916</td>\n",
       "      <td>32217.0</td>\n",
       "      <td>32.3</td>\n",
       "      <td>98.4</td>\n",
       "    </tr>\n",
       "    <tr>\n",
       "      <th>2</th>\n",
       "      <td>ANGELINA</td>\n",
       "      <td>53073.0</td>\n",
       "      <td>1565.0</td>\n",
       "      <td>10149.0</td>\n",
       "      <td>67464</td>\n",
       "      <td>13194</td>\n",
       "      <td>270</td>\n",
       "      <td>968</td>\n",
       "      <td>5</td>\n",
       "      <td>5218</td>\n",
       "      <td>23878.0</td>\n",
       "      <td>37.6</td>\n",
       "      <td>95.7</td>\n",
       "    </tr>\n",
       "    <tr>\n",
       "      <th>3</th>\n",
       "      <td>ARANSAS</td>\n",
       "      <td>18239.0</td>\n",
       "      <td>659.0</td>\n",
       "      <td>4408.0</td>\n",
       "      <td>21282</td>\n",
       "      <td>79</td>\n",
       "      <td>218</td>\n",
       "      <td>275</td>\n",
       "      <td>0</td>\n",
       "      <td>2366</td>\n",
       "      <td>32050.0</td>\n",
       "      <td>50.0</td>\n",
       "      <td>98.1</td>\n",
       "    </tr>\n",
       "    <tr>\n",
       "      <th>4</th>\n",
       "      <td>ARCHER</td>\n",
       "      <td>6490.0</td>\n",
       "      <td>89.0</td>\n",
       "      <td>1920.0</td>\n",
       "      <td>8269</td>\n",
       "      <td>96</td>\n",
       "      <td>128</td>\n",
       "      <td>15</td>\n",
       "      <td>0</td>\n",
       "      <td>246</td>\n",
       "      <td>34557.0</td>\n",
       "      <td>44.2</td>\n",
       "      <td>100.6</td>\n",
       "    </tr>\n",
       "  </tbody>\n",
       "</table>\n",
       "</div>"
      ],
      "text/plain": [
       "     County   Voters  Votes_Dem_Prim  Votes_Rep_Prim  White  \\\n",
       "0  ANDERSON  29128.0           918.0          7081.0  41263   \n",
       "1   ANDREWS  10212.0            88.0          2073.0  14810   \n",
       "2  ANGELINA  53073.0          1565.0         10149.0  67464   \n",
       "3   ARANSAS  18239.0           659.0          4408.0  21282   \n",
       "4    ARCHER   6490.0            89.0          1920.0   8269   \n",
       "\n",
       "   Black or African American  American Indian and Alaska Native  Asian  \\\n",
       "0                      12114                                237    350   \n",
       "1                        418                                  0     57   \n",
       "2                      13194                                270    968   \n",
       "3                         79                                218    275   \n",
       "4                         96                                128     15   \n",
       "\n",
       "   Native Hawaiian Pacific Islander  Other Race  Median Income  Median Age  \\\n",
       "0                                 9        3944        19168.0        39.3   \n",
       "1                                26        2916        32217.0        32.3   \n",
       "2                                 5        5218        23878.0        37.6   \n",
       "3                                 0        2366        32050.0        50.0   \n",
       "4                                 0         246        34557.0        44.2   \n",
       "\n",
       "   Sex Ratio  \n",
       "0      157.6  \n",
       "1       98.4  \n",
       "2       95.7  \n",
       "3       98.1  \n",
       "4      100.6  "
      ]
     },
     "execution_count": 307,
     "metadata": {},
     "output_type": "execute_result"
    }
   ],
   "source": [
    "import os\n",
    "os.chdir(\"/Users/sejalgupta/Documents/BETO WORK/probability_turnout\")\n",
    "import pandas as pd\n",
    "prior_elections = pd.read_csv(\"prior_elections.csv\")\n",
    "data18 = pd.read_csv(\"data18.csv\")\n",
    "data22 = pd.read_csv(\"data22.csv\")\n",
    "data22.head()"
   ]
  },
  {
   "cell_type": "code",
   "execution_count": 308,
   "id": "972b7db9",
   "metadata": {},
   "outputs": [
    {
     "data": {
      "text/html": [
       "<div>\n",
       "<style scoped>\n",
       "    .dataframe tbody tr th:only-of-type {\n",
       "        vertical-align: middle;\n",
       "    }\n",
       "\n",
       "    .dataframe tbody tr th {\n",
       "        vertical-align: top;\n",
       "    }\n",
       "\n",
       "    .dataframe thead th {\n",
       "        text-align: right;\n",
       "    }\n",
       "</style>\n",
       "<table border=\"1\" class=\"dataframe\">\n",
       "  <thead>\n",
       "    <tr style=\"text-align: right;\">\n",
       "      <th></th>\n",
       "      <th>County</th>\n",
       "      <th>Votes</th>\n",
       "      <th>Voters</th>\n",
       "      <th>Votes_Dem_Prim</th>\n",
       "      <th>Votes_Rep_Prim</th>\n",
       "      <th>White</th>\n",
       "      <th>Black or African American</th>\n",
       "      <th>American Indian and Alaska Native</th>\n",
       "      <th>Asian</th>\n",
       "      <th>Native Hawaiian Pacific Islander</th>\n",
       "      <th>Other Race</th>\n",
       "      <th>Median Income</th>\n",
       "      <th>Median Age</th>\n",
       "      <th>Sex Ratio</th>\n",
       "    </tr>\n",
       "  </thead>\n",
       "  <tbody>\n",
       "    <tr>\n",
       "      <th>0</th>\n",
       "      <td>ANDERSON_10</td>\n",
       "      <td>10968</td>\n",
       "      <td>26768</td>\n",
       "      <td>1169</td>\n",
       "      <td>4516</td>\n",
       "      <td>42302</td>\n",
       "      <td>12507</td>\n",
       "      <td>379</td>\n",
       "      <td>307</td>\n",
       "      <td>64</td>\n",
       "      <td>2457</td>\n",
       "      <td>17465.0</td>\n",
       "      <td>38.5</td>\n",
       "      <td>148.8</td>\n",
       "    </tr>\n",
       "    <tr>\n",
       "      <th>1</th>\n",
       "      <td>ANDREWS_10</td>\n",
       "      <td>4053</td>\n",
       "      <td>8419</td>\n",
       "      <td>245</td>\n",
       "      <td>1261</td>\n",
       "      <td>11707</td>\n",
       "      <td>148</td>\n",
       "      <td>293</td>\n",
       "      <td>111</td>\n",
       "      <td>0</td>\n",
       "      <td>1789</td>\n",
       "      <td>29605.0</td>\n",
       "      <td>34.6</td>\n",
       "      <td>101.0</td>\n",
       "    </tr>\n",
       "    <tr>\n",
       "      <th>2</th>\n",
       "      <td>ANGELINA_10</td>\n",
       "      <td>19305</td>\n",
       "      <td>47667</td>\n",
       "      <td>3140</td>\n",
       "      <td>5053</td>\n",
       "      <td>65373</td>\n",
       "      <td>12996</td>\n",
       "      <td>299</td>\n",
       "      <td>599</td>\n",
       "      <td>22</td>\n",
       "      <td>5965</td>\n",
       "      <td>20104.0</td>\n",
       "      <td>35.7</td>\n",
       "      <td>95.6</td>\n",
       "    </tr>\n",
       "    <tr>\n",
       "      <th>3</th>\n",
       "      <td>ARANSAS_10</td>\n",
       "      <td>6895</td>\n",
       "      <td>15739</td>\n",
       "      <td>446</td>\n",
       "      <td>2471</td>\n",
       "      <td>21134</td>\n",
       "      <td>267</td>\n",
       "      <td>92</td>\n",
       "      <td>346</td>\n",
       "      <td>0</td>\n",
       "      <td>1408</td>\n",
       "      <td>25610.0</td>\n",
       "      <td>46.8</td>\n",
       "      <td>93.9</td>\n",
       "    </tr>\n",
       "    <tr>\n",
       "      <th>4</th>\n",
       "      <td>ARCHER_10</td>\n",
       "      <td>2865</td>\n",
       "      <td>6538</td>\n",
       "      <td>197</td>\n",
       "      <td>1187</td>\n",
       "      <td>8742</td>\n",
       "      <td>63</td>\n",
       "      <td>0</td>\n",
       "      <td>107</td>\n",
       "      <td>0</td>\n",
       "      <td>143</td>\n",
       "      <td>23882.0</td>\n",
       "      <td>41.4</td>\n",
       "      <td>102.8</td>\n",
       "    </tr>\n",
       "  </tbody>\n",
       "</table>\n",
       "</div>"
      ],
      "text/plain": [
       "        County  Votes  Voters  Votes_Dem_Prim  Votes_Rep_Prim  White  \\\n",
       "0  ANDERSON_10  10968   26768            1169            4516  42302   \n",
       "1   ANDREWS_10   4053    8419             245            1261  11707   \n",
       "2  ANGELINA_10  19305   47667            3140            5053  65373   \n",
       "3   ARANSAS_10   6895   15739             446            2471  21134   \n",
       "4    ARCHER_10   2865    6538             197            1187   8742   \n",
       "\n",
       "   Black or African American  American Indian and Alaska Native  Asian  \\\n",
       "0                      12507                                379    307   \n",
       "1                        148                                293    111   \n",
       "2                      12996                                299    599   \n",
       "3                        267                                 92    346   \n",
       "4                         63                                  0    107   \n",
       "\n",
       "   Native Hawaiian Pacific Islander  Other Race  Median Income  Median Age  \\\n",
       "0                                64        2457        17465.0        38.5   \n",
       "1                                 0        1789        29605.0        34.6   \n",
       "2                                22        5965        20104.0        35.7   \n",
       "3                                 0        1408        25610.0        46.8   \n",
       "4                                 0         143        23882.0        41.4   \n",
       "\n",
       "   Sex Ratio  \n",
       "0      148.8  \n",
       "1      101.0  \n",
       "2       95.6  \n",
       "3       93.9  \n",
       "4      102.8  "
      ]
     },
     "execution_count": 308,
     "metadata": {},
     "output_type": "execute_result"
    }
   ],
   "source": [
    "prior_elections.head()"
   ]
  },
  {
   "cell_type": "markdown",
   "id": "a8def9e2",
   "metadata": {},
   "source": [
    "## Playing with basic linear regressions"
   ]
  },
  {
   "cell_type": "code",
   "execution_count": 309,
   "id": "756f04b6",
   "metadata": {},
   "outputs": [],
   "source": [
    "import numpy as np\n",
    "from sklearn.linear_model import LinearRegression\n",
    "data18.columns\n",
    "X = data18[['Voters', 'Votes_Dem_Prim', 'Votes_Rep_Prim',\n",
    "       'White', 'Black or African American',\n",
    "       'American Indian and Alaska Native', 'Asian',\n",
    "       'Native Hawaiian Pacific Islander', 'Other Race', 'Median Income',\n",
    "       'Median Age', 'Sex Ratio']]\n",
    "y = data18[[\"Votes\"]]"
   ]
  },
  {
   "cell_type": "code",
   "execution_count": 310,
   "id": "3465e9ba",
   "metadata": {},
   "outputs": [
    {
     "name": "stdout",
     "output_type": "stream",
     "text": [
      "0.9826045157836527\n",
      "0.8589937120850119\n",
      "0.9882271606304499\n",
      "0.926338912782444\n",
      "0.9691831013530395\n",
      "0.9389006129513784\n",
      "0.8972666635871224\n",
      "0.84471716918718\n",
      "0.985354489546814\n",
      "0.9891378624417624\n"
     ]
    }
   ],
   "source": [
    "#split into train and test, fit linear regression model\n",
    "from sklearn.model_selection import train_test_split\n",
    "for i in range(10):\n",
    "    X_train, X_test, y_train, y_test = train_test_split(X, y, test_size = 0.2)\n",
    "    linreg = LinearRegression()\n",
    "    linreg.fit(X_train, y_train)\n",
    "    print(linreg.score(X_test,y_test)) #very different in every run"
   ]
  },
  {
   "cell_type": "code",
   "execution_count": 311,
   "id": "a846f727",
   "metadata": {},
   "outputs": [
    {
     "data": {
      "text/plain": [
       "array([[ 43551.27542332],\n",
       "       [  7780.1085828 ],\n",
       "       [  -666.93460779],\n",
       "       [ 12807.72737123],\n",
       "       [ -1677.0751133 ],\n",
       "       [ 17267.36019146],\n",
       "       [139586.01590831],\n",
       "       [  7002.69423505],\n",
       "       [ 31366.22150725],\n",
       "       [ 19747.87107356]])"
      ]
     },
     "execution_count": 311,
     "metadata": {},
     "output_type": "execute_result"
    }
   ],
   "source": [
    "y_pred = linreg.predict(X_test) #why does this return negative values?\n",
    "y_pred[:10] #see first ten values"
   ]
  },
  {
   "cell_type": "code",
   "execution_count": 312,
   "id": "9157439c",
   "metadata": {},
   "outputs": [
    {
     "data": {
      "text/html": [
       "<div>\n",
       "<style scoped>\n",
       "    .dataframe tbody tr th:only-of-type {\n",
       "        vertical-align: middle;\n",
       "    }\n",
       "\n",
       "    .dataframe tbody tr th {\n",
       "        vertical-align: top;\n",
       "    }\n",
       "\n",
       "    .dataframe thead th {\n",
       "        text-align: right;\n",
       "    }\n",
       "</style>\n",
       "<table border=\"1\" class=\"dataframe\">\n",
       "  <thead>\n",
       "    <tr style=\"text-align: right;\">\n",
       "      <th></th>\n",
       "      <th>Votes</th>\n",
       "    </tr>\n",
       "  </thead>\n",
       "  <tbody>\n",
       "    <tr>\n",
       "      <th>122</th>\n",
       "      <td>53215</td>\n",
       "    </tr>\n",
       "    <tr>\n",
       "      <th>3</th>\n",
       "      <td>6070</td>\n",
       "    </tr>\n",
       "    <tr>\n",
       "      <th>34</th>\n",
       "      <td>1152</td>\n",
       "    </tr>\n",
       "    <tr>\n",
       "      <th>26</th>\n",
       "      <td>11883</td>\n",
       "    </tr>\n",
       "    <tr>\n",
       "      <th>50</th>\n",
       "      <td>362</td>\n",
       "    </tr>\n",
       "    <tr>\n",
       "      <th>110</th>\n",
       "      <td>13639</td>\n",
       "    </tr>\n",
       "    <tr>\n",
       "      <th>60</th>\n",
       "      <td>144010</td>\n",
       "    </tr>\n",
       "    <tr>\n",
       "      <th>111</th>\n",
       "      <td>7637</td>\n",
       "    </tr>\n",
       "    <tr>\n",
       "      <th>190</th>\n",
       "      <td>28217</td>\n",
       "    </tr>\n",
       "    <tr>\n",
       "      <th>18</th>\n",
       "      <td>21532</td>\n",
       "    </tr>\n",
       "  </tbody>\n",
       "</table>\n",
       "</div>"
      ],
      "text/plain": [
       "      Votes\n",
       "122   53215\n",
       "3      6070\n",
       "34     1152\n",
       "26    11883\n",
       "50      362\n",
       "110   13639\n",
       "60   144010\n",
       "111    7637\n",
       "190   28217\n",
       "18    21532"
      ]
     },
     "execution_count": 312,
     "metadata": {},
     "output_type": "execute_result"
    }
   ],
   "source": [
    "y_test[:10]"
   ]
  },
  {
   "cell_type": "markdown",
   "id": "f6839b62",
   "metadata": {},
   "source": [
    "#### This returns negative values. Try scaling values first?"
   ]
  },
  {
   "cell_type": "code",
   "execution_count": 313,
   "id": "e7c5c479",
   "metadata": {},
   "outputs": [
    {
     "name": "stdout",
     "output_type": "stream",
     "text": [
      "0.9778963620129929\n",
      "0.9823671910633318\n",
      "0.9912195671616185\n",
      "0.9517781737139865\n",
      "0.9853487668124495\n",
      "0.8880565936352721\n",
      "0.9187988455790237\n",
      "0.9823220634809678\n",
      "0.9749861737231118\n",
      "0.986366975694324\n"
     ]
    }
   ],
   "source": [
    "from sklearn.pipeline import make_pipeline\n",
    "from sklearn.preprocessing import StandardScaler\n",
    "for i in range(10):\n",
    "    X_train, X_test, y_train, y_test = train_test_split(X, y, test_size = 0.2)\n",
    "    pipe = make_pipeline(StandardScaler(), LinearRegression())\n",
    "    pipe.fit(X_train, y_train)  # apply scaling on training data\n",
    "    pipe.predict(X_test)\n",
    "    print(pipe.score(X_test, y_test)) #these also vary a lot"
   ]
  },
  {
   "cell_type": "markdown",
   "id": "094b7600",
   "metadata": {},
   "source": [
    "<p> Scaling does not seem to make much of a difference in r^2. Try scaling when predicting percentages? <p>"
   ]
  },
  {
   "cell_type": "markdown",
   "id": "d511a3e9",
   "metadata": {},
   "source": [
    "<p> Look at correlations <p>"
   ]
  },
  {
   "cell_type": "code",
   "execution_count": 314,
   "id": "dbad2c44",
   "metadata": {},
   "outputs": [],
   "source": [
    "import seaborn as sns\n",
    "from matplotlib import pyplot as plt\n",
    "#sns.pairplot(data18) #this doesnt show us a ton, it seems as though race data is more correlated, need to scale data`"
   ]
  },
  {
   "cell_type": "markdown",
   "id": "10adf698",
   "metadata": {},
   "source": [
    "<p> Trying Linear Regression with all years, not just 2018 <p>"
   ]
  },
  {
   "cell_type": "code",
   "execution_count": 315,
   "id": "2eeb011e",
   "metadata": {},
   "outputs": [
    {
     "name": "stdout",
     "output_type": "stream",
     "text": [
      "0.9918660447982182\n",
      "0.989513328183036\n",
      "0.9922936777399789\n",
      "0.991506894847111\n",
      "0.9916266084855472\n",
      "0.9913227086749844\n",
      "0.9526482754570471\n"
     ]
    }
   ],
   "source": [
    "X_all = prior_elections[['Voters', 'Votes_Dem_Prim', 'Votes_Rep_Prim',\n",
    "       'White', 'Black or African American',\n",
    "       'American Indian and Alaska Native', 'Asian',\n",
    "       'Native Hawaiian Pacific Islander', 'Other Race', 'Median Income',\n",
    "       'Median Age', 'Sex Ratio']]\n",
    "y_all = prior_elections[[\"Votes\"]]\n",
    "for i in range(7):\n",
    "    X_tr, X_tst, y_tr, y_tst = train_test_split(X_all, y_all, test_size = 0.2)\n",
    "    lreg = LinearRegression()\n",
    "    lreg.fit(X_tr, y_tr)\n",
    "    print(lreg.score(X_tst,y_tst)) #very different in every run"
   ]
  },
  {
   "cell_type": "code",
   "execution_count": 316,
   "id": "df0a800b",
   "metadata": {},
   "outputs": [
    {
     "name": "stdout",
     "output_type": "stream",
     "text": [
      "0.9970161647454513\n"
     ]
    },
    {
     "data": {
      "text/plain": [
       "array([[-3758.73319122],\n",
       "       [ 7277.75347973],\n",
       "       [-1092.91772285],\n",
       "       [ 7884.07289906],\n",
       "       [16995.49341784],\n",
       "       [20850.93198615],\n",
       "       [ 7470.20873612]])"
      ]
     },
     "execution_count": 316,
     "metadata": {},
     "output_type": "execute_result"
    }
   ],
   "source": [
    "X_tr, X_tst, y_tr, y_tst = train_test_split(X_all, y_all, test_size = 0.2)\n",
    "lreg = LinearRegression().fit(X_tr, y_tr)\n",
    "prediction = lreg.predict(X_tst)\n",
    "print(lreg.score(X_tst,y_tst))\n",
    "prediction[:7]"
   ]
  },
  {
   "cell_type": "code",
   "execution_count": 317,
   "id": "ad00f2dc",
   "metadata": {},
   "outputs": [
    {
     "data": {
      "text/html": [
       "<div>\n",
       "<style scoped>\n",
       "    .dataframe tbody tr th:only-of-type {\n",
       "        vertical-align: middle;\n",
       "    }\n",
       "\n",
       "    .dataframe tbody tr th {\n",
       "        vertical-align: top;\n",
       "    }\n",
       "\n",
       "    .dataframe thead th {\n",
       "        text-align: right;\n",
       "    }\n",
       "</style>\n",
       "<table border=\"1\" class=\"dataframe\">\n",
       "  <thead>\n",
       "    <tr style=\"text-align: right;\">\n",
       "      <th></th>\n",
       "      <th>Votes</th>\n",
       "    </tr>\n",
       "  </thead>\n",
       "  <tbody>\n",
       "    <tr>\n",
       "      <th>669</th>\n",
       "      <td>263</td>\n",
       "    </tr>\n",
       "    <tr>\n",
       "      <th>261</th>\n",
       "      <td>7182</td>\n",
       "    </tr>\n",
       "    <tr>\n",
       "      <th>262</th>\n",
       "      <td>1004</td>\n",
       "    </tr>\n",
       "    <tr>\n",
       "      <th>158</th>\n",
       "      <td>7155</td>\n",
       "    </tr>\n",
       "    <tr>\n",
       "      <th>488</th>\n",
       "      <td>17148</td>\n",
       "    </tr>\n",
       "    <tr>\n",
       "      <th>345</th>\n",
       "      <td>23240</td>\n",
       "    </tr>\n",
       "    <tr>\n",
       "      <th>541</th>\n",
       "      <td>6947</td>\n",
       "    </tr>\n",
       "  </tbody>\n",
       "</table>\n",
       "</div>"
      ],
      "text/plain": [
       "     Votes\n",
       "669    263\n",
       "261   7182\n",
       "262   1004\n",
       "158   7155\n",
       "488  17148\n",
       "345  23240\n",
       "541   6947"
      ]
     },
     "execution_count": 317,
     "metadata": {},
     "output_type": "execute_result"
    }
   ],
   "source": [
    "y_tst[:7]"
   ]
  },
  {
   "cell_type": "code",
   "execution_count": 318,
   "id": "4718841c",
   "metadata": {},
   "outputs": [
    {
     "data": {
      "text/plain": [
       "7073707.576359564"
      ]
     },
     "execution_count": 318,
     "metadata": {},
     "output_type": "execute_result"
    }
   ],
   "source": [
    "import numpy as np\n",
    "X22 = data22[['Voters', 'Votes_Dem_Prim', 'Votes_Rep_Prim',\n",
    "       'White', 'Black or African American',\n",
    "       'American Indian and Alaska Native', 'Asian',\n",
    "       'Native Hawaiian Pacific Islander', 'Other Race', 'Median Income',\n",
    "       'Median Age', 'Sex Ratio']]\n",
    "pred_votes = lreg.predict(X22)\n",
    "#sum(pred_votes)\n",
    "np.sum(pred_votes)"
   ]
  },
  {
   "cell_type": "markdown",
   "id": "4a05ff49",
   "metadata": {},
   "source": [
    "#### Do 100 trials. See average R^2 and average prediction"
   ]
  },
  {
   "cell_type": "code",
   "execution_count": 319,
   "id": "81dad801",
   "metadata": {},
   "outputs": [
    {
     "name": "stdout",
     "output_type": "stream",
     "text": [
      "Using 2018 data to predict 2022 VOTES\n",
      "Average R squared value of test data: 0.9415670613468282\n",
      "Average prediction: 6966567.412556085\n"
     ]
    }
   ],
   "source": [
    "#Using only 2018 data to predict 2022 data\n",
    "r_lr18 = []\n",
    "pred_lr18 = []\n",
    "for i in range(100):\n",
    "    X_train, X_test, y_train, y_test = train_test_split(X, y, test_size = 0.2)\n",
    "    lr18 = LinearRegression()\n",
    "    lr18.fit(X_train, y_train)\n",
    "    r_lr18.append(lr18.score(X_test,y_test))\n",
    "    p = lr18.predict(X22)\n",
    "    total = np.sum(p)\n",
    "    pred_lr18.append(total) \n",
    "#sum of all counties predicted votes\n",
    "print(\"Using 2018 data to predict 2022 VOTES\")\n",
    "print(\"Average R squared value of test data:\", np.sum(r_lr18)/len(r_lr18))\n",
    "print(\"Average prediction:\", np.sum(pred_lr18)/len(r_lr18))"
   ]
  },
  {
   "cell_type": "code",
   "execution_count": 320,
   "id": "fc5bbd00",
   "metadata": {},
   "outputs": [
    {
     "name": "stdout",
     "output_type": "stream",
     "text": [
      "Using 2010, 2014, and 2018 data to predict 2022 VOTES\n",
      "Average R squared value of test data: 0.9891494069769843\n",
      "Average prediction: 7000896.589653982\n"
     ]
    }
   ],
   "source": [
    "#Using 2010, 2014, and 2018 data to predict 2022 data\n",
    "r_all = []\n",
    "pred_all = []\n",
    "for i in range(100):\n",
    "    X_train, X_test, y_train, y_test = train_test_split(X_all, y_all, test_size = 0.2)\n",
    "    lr_all = LinearRegression()\n",
    "    lr_all.fit(X_train, y_train)\n",
    "    r_all.append(lr_all.score(X_test,y_test))\n",
    "    p = lr_all.predict(X22)\n",
    "    total = np.sum(p)\n",
    "    pred_all.append(total) \n",
    "\n",
    "#sum of all counties predicted votes\n",
    "print(\"Using 2010, 2014, and 2018 data to predict 2022 VOTES\")\n",
    "print(\"Average R squared value of test data:\", np.sum(r_all)/len(r_all))\n",
    "print(\"Average prediction:\", np.sum(pred_all)/len(r_all))"
   ]
  },
  {
   "cell_type": "code",
   "execution_count": 321,
   "id": "52f14c64",
   "metadata": {},
   "outputs": [
    {
     "name": "stdout",
     "output_type": "stream",
     "text": [
      "Using 2010, 2014, and 2018 data to predict 2022 VOTES after Scaling \n",
      "Average R squared value of test data: 0.989716225600374\n",
      "Average prediction: 7034274.007429548\n"
     ]
    }
   ],
   "source": [
    "#The same as above, w/ scaling\n",
    "r_all = []\n",
    "pred_all = []\n",
    "for i in range(100):\n",
    "    sclr = StandardScaler()\n",
    "    lr_all = LinearRegression()\n",
    "    \n",
    "    #split & scale data\n",
    "    X_train, X_test, y_train, y_test = train_test_split(X_all, y_all, test_size = 0.2)\n",
    "    X_train = sclr.fit_transform(X_train)\n",
    "    X_test = sclr.transform(X_test)\n",
    "    X_pred = sclr.transform(X22)\n",
    "    lr_all.fit(X_train, y_train)\n",
    "    r_all.append(lr_all.score(X_test,y_test))\n",
    "    \n",
    "    #predictions\n",
    "    p = lr_all.predict(X_pred)\n",
    "    total = np.sum(p)\n",
    "    pred_all.append(total) \n",
    "\n",
    "#sum of all counties predicted votes\n",
    "print(\"Using 2010, 2014, and 2018 data to predict 2022 VOTES after Scaling \")\n",
    "print(\"Average R squared value of test data:\", np.sum(r_all)/len(r_all))\n",
    "print(\"Average prediction:\", np.sum(pred_all)/len(r_all))"
   ]
  },
  {
   "cell_type": "code",
   "execution_count": 322,
   "id": "5f495656",
   "metadata": {
    "scrolled": true
   },
   "outputs": [
    {
     "data": {
      "image/png": "[encoded data removed]",
      "text/plain": [
       "<Figure size 432x288 with 1 Axes>"
      ]
     },
     "metadata": {
      "needs_background": "light"
     },
     "output_type": "display_data"
    }
   ],
   "source": [
    "plt.plot(range(len(y_test)), lr_all.predict(X_test), label = \"Linear Regression\", color = \"b\")\n",
    "plt.scatter(range(len(y_test)), y_test, label = \"Actual Data\", color = \"g\")\n",
    "plt.legend()\n",
    "plt.show()"
   ]
  },
  {
   "cell_type": "markdown",
   "id": "d8d71897",
   "metadata": {},
   "source": [
    "### Instead of predicting votes, try predicting turnout %"
   ]
  },
  {
   "cell_type": "code",
   "execution_count": 323,
   "id": "c9a82696",
   "metadata": {},
   "outputs": [
    {
     "data": {
      "text/html": [
       "<div>\n",
       "<style scoped>\n",
       "    .dataframe tbody tr th:only-of-type {\n",
       "        vertical-align: middle;\n",
       "    }\n",
       "\n",
       "    .dataframe tbody tr th {\n",
       "        vertical-align: top;\n",
       "    }\n",
       "\n",
       "    .dataframe thead th {\n",
       "        text-align: right;\n",
       "    }\n",
       "</style>\n",
       "<table border=\"1\" class=\"dataframe\">\n",
       "  <thead>\n",
       "    <tr style=\"text-align: right;\">\n",
       "      <th></th>\n",
       "      <th>County</th>\n",
       "      <th>Turnout</th>\n",
       "      <th>Votes</th>\n",
       "      <th>Voters</th>\n",
       "      <th>Votes_Dem_Prim</th>\n",
       "      <th>Votes_Rep_Prim</th>\n",
       "      <th>White</th>\n",
       "      <th>Black or African American</th>\n",
       "      <th>American Indian and Alaska Native</th>\n",
       "      <th>Asian</th>\n",
       "      <th>Native Hawaiian Pacific Islander</th>\n",
       "      <th>Other Race</th>\n",
       "      <th>Median Income</th>\n",
       "      <th>Median Age</th>\n",
       "      <th>Sex Ratio</th>\n",
       "    </tr>\n",
       "  </thead>\n",
       "  <tbody>\n",
       "    <tr>\n",
       "      <th>0</th>\n",
       "      <td>ANDERSON_10</td>\n",
       "      <td>0.4097</td>\n",
       "      <td>10968</td>\n",
       "      <td>26768</td>\n",
       "      <td>1169</td>\n",
       "      <td>4516</td>\n",
       "      <td>42302</td>\n",
       "      <td>12507</td>\n",
       "      <td>379</td>\n",
       "      <td>307</td>\n",
       "      <td>64</td>\n",
       "      <td>2457</td>\n",
       "      <td>17465.0</td>\n",
       "      <td>38.5</td>\n",
       "      <td>148.8</td>\n",
       "    </tr>\n",
       "    <tr>\n",
       "      <th>1</th>\n",
       "      <td>ANDREWS_10</td>\n",
       "      <td>0.4814</td>\n",
       "      <td>4053</td>\n",
       "      <td>8419</td>\n",
       "      <td>245</td>\n",
       "      <td>1261</td>\n",
       "      <td>11707</td>\n",
       "      <td>148</td>\n",
       "      <td>293</td>\n",
       "      <td>111</td>\n",
       "      <td>0</td>\n",
       "      <td>1789</td>\n",
       "      <td>29605.0</td>\n",
       "      <td>34.6</td>\n",
       "      <td>101.0</td>\n",
       "    </tr>\n",
       "    <tr>\n",
       "      <th>2</th>\n",
       "      <td>ANGELINA_10</td>\n",
       "      <td>0.4050</td>\n",
       "      <td>19305</td>\n",
       "      <td>47667</td>\n",
       "      <td>3140</td>\n",
       "      <td>5053</td>\n",
       "      <td>65373</td>\n",
       "      <td>12996</td>\n",
       "      <td>299</td>\n",
       "      <td>599</td>\n",
       "      <td>22</td>\n",
       "      <td>5965</td>\n",
       "      <td>20104.0</td>\n",
       "      <td>35.7</td>\n",
       "      <td>95.6</td>\n",
       "    </tr>\n",
       "    <tr>\n",
       "      <th>3</th>\n",
       "      <td>ARANSAS_10</td>\n",
       "      <td>0.4381</td>\n",
       "      <td>6895</td>\n",
       "      <td>15739</td>\n",
       "      <td>446</td>\n",
       "      <td>2471</td>\n",
       "      <td>21134</td>\n",
       "      <td>267</td>\n",
       "      <td>92</td>\n",
       "      <td>346</td>\n",
       "      <td>0</td>\n",
       "      <td>1408</td>\n",
       "      <td>25610.0</td>\n",
       "      <td>46.8</td>\n",
       "      <td>93.9</td>\n",
       "    </tr>\n",
       "    <tr>\n",
       "      <th>4</th>\n",
       "      <td>ARCHER_10</td>\n",
       "      <td>0.4382</td>\n",
       "      <td>2865</td>\n",
       "      <td>6538</td>\n",
       "      <td>197</td>\n",
       "      <td>1187</td>\n",
       "      <td>8742</td>\n",
       "      <td>63</td>\n",
       "      <td>0</td>\n",
       "      <td>107</td>\n",
       "      <td>0</td>\n",
       "      <td>143</td>\n",
       "      <td>23882.0</td>\n",
       "      <td>41.4</td>\n",
       "      <td>102.8</td>\n",
       "    </tr>\n",
       "  </tbody>\n",
       "</table>\n",
       "</div>"
      ],
      "text/plain": [
       "        County  Turnout  Votes  Voters  Votes_Dem_Prim  Votes_Rep_Prim  White  \\\n",
       "0  ANDERSON_10   0.4097  10968   26768            1169            4516  42302   \n",
       "1   ANDREWS_10   0.4814   4053    8419             245            1261  11707   \n",
       "2  ANGELINA_10   0.4050  19305   47667            3140            5053  65373   \n",
       "3   ARANSAS_10   0.4381   6895   15739             446            2471  21134   \n",
       "4    ARCHER_10   0.4382   2865    6538             197            1187   8742   \n",
       "\n",
       "   Black or African American  American Indian and Alaska Native  Asian  \\\n",
       "0                      12507                                379    307   \n",
       "1                        148                                293    111   \n",
       "2                      12996                                299    599   \n",
       "3                        267                                 92    346   \n",
       "4                         63                                  0    107   \n",
       "\n",
       "   Native Hawaiian Pacific Islander  Other Race  Median Income  Median Age  \\\n",
       "0                                64        2457        17465.0        38.5   \n",
       "1                                 0        1789        29605.0        34.6   \n",
       "2                                22        5965        20104.0        35.7   \n",
       "3                                 0        1408        25610.0        46.8   \n",
       "4                                 0         143        23882.0        41.4   \n",
       "\n",
       "   Sex Ratio  \n",
       "0      148.8  \n",
       "1      101.0  \n",
       "2       95.6  \n",
       "3       93.9  \n",
       "4      102.8  "
      ]
     },
     "execution_count": 323,
     "metadata": {},
     "output_type": "execute_result"
    }
   ],
   "source": [
    "#trying turnout percentage \n",
    "past_turnout = pd.read_csv(r'turnoutnum.csv')\n",
    "pop22 = pd.read_csv(r'pop22.csv')\n",
    "#past_turnout.columns\n",
    "past_turnout.head()"
   ]
  },
  {
   "cell_type": "code",
   "execution_count": 324,
   "id": "4eb77b76",
   "metadata": {},
   "outputs": [
    {
     "data": {
      "text/html": [
       "<div>\n",
       "<style scoped>\n",
       "    .dataframe tbody tr th:only-of-type {\n",
       "        vertical-align: middle;\n",
       "    }\n",
       "\n",
       "    .dataframe tbody tr th {\n",
       "        vertical-align: top;\n",
       "    }\n",
       "\n",
       "    .dataframe thead th {\n",
       "        text-align: right;\n",
       "    }\n",
       "</style>\n",
       "<table border=\"1\" class=\"dataframe\">\n",
       "  <thead>\n",
       "    <tr style=\"text-align: right;\">\n",
       "      <th></th>\n",
       "      <th>County</th>\n",
       "      <th>Voters</th>\n",
       "      <th>Votes_Dem_Prim</th>\n",
       "      <th>Votes_Rep_Prim</th>\n",
       "      <th>White</th>\n",
       "      <th>Black or African American</th>\n",
       "      <th>American Indian and Alaska Native</th>\n",
       "      <th>Asian</th>\n",
       "      <th>Native Hawaiian Pacific Islander</th>\n",
       "      <th>Other Race</th>\n",
       "      <th>Median Income</th>\n",
       "      <th>Median Age</th>\n",
       "      <th>Sex Ratio</th>\n",
       "      <th>Total population</th>\n",
       "    </tr>\n",
       "  </thead>\n",
       "  <tbody>\n",
       "    <tr>\n",
       "      <th>0</th>\n",
       "      <td>ANDERSON</td>\n",
       "      <td>29128.0</td>\n",
       "      <td>918.0</td>\n",
       "      <td>7081.0</td>\n",
       "      <td>41263</td>\n",
       "      <td>12114</td>\n",
       "      <td>237</td>\n",
       "      <td>350</td>\n",
       "      <td>9</td>\n",
       "      <td>3944</td>\n",
       "      <td>19168.0</td>\n",
       "      <td>39.3</td>\n",
       "      <td>157.6</td>\n",
       "      <td>57,917</td>\n",
       "    </tr>\n",
       "    <tr>\n",
       "      <th>1</th>\n",
       "      <td>ANDREWS</td>\n",
       "      <td>10212.0</td>\n",
       "      <td>88.0</td>\n",
       "      <td>2073.0</td>\n",
       "      <td>14810</td>\n",
       "      <td>418</td>\n",
       "      <td>0</td>\n",
       "      <td>57</td>\n",
       "      <td>26</td>\n",
       "      <td>2916</td>\n",
       "      <td>32217.0</td>\n",
       "      <td>32.3</td>\n",
       "      <td>98.4</td>\n",
       "      <td>18,227</td>\n",
       "    </tr>\n",
       "    <tr>\n",
       "      <th>2</th>\n",
       "      <td>ANGELINA</td>\n",
       "      <td>53073.0</td>\n",
       "      <td>1565.0</td>\n",
       "      <td>10149.0</td>\n",
       "      <td>67464</td>\n",
       "      <td>13194</td>\n",
       "      <td>270</td>\n",
       "      <td>968</td>\n",
       "      <td>5</td>\n",
       "      <td>5218</td>\n",
       "      <td>23878.0</td>\n",
       "      <td>37.6</td>\n",
       "      <td>95.7</td>\n",
       "      <td>87,119</td>\n",
       "    </tr>\n",
       "    <tr>\n",
       "      <th>3</th>\n",
       "      <td>ARANSAS</td>\n",
       "      <td>18239.0</td>\n",
       "      <td>659.0</td>\n",
       "      <td>4408.0</td>\n",
       "      <td>21282</td>\n",
       "      <td>79</td>\n",
       "      <td>218</td>\n",
       "      <td>275</td>\n",
       "      <td>0</td>\n",
       "      <td>2366</td>\n",
       "      <td>32050.0</td>\n",
       "      <td>50.0</td>\n",
       "      <td>98.1</td>\n",
       "      <td>24,220</td>\n",
       "    </tr>\n",
       "    <tr>\n",
       "      <th>4</th>\n",
       "      <td>ARCHER</td>\n",
       "      <td>6490.0</td>\n",
       "      <td>89.0</td>\n",
       "      <td>1920.0</td>\n",
       "      <td>8269</td>\n",
       "      <td>96</td>\n",
       "      <td>128</td>\n",
       "      <td>15</td>\n",
       "      <td>0</td>\n",
       "      <td>246</td>\n",
       "      <td>34557.0</td>\n",
       "      <td>44.2</td>\n",
       "      <td>100.6</td>\n",
       "      <td>8,754</td>\n",
       "    </tr>\n",
       "  </tbody>\n",
       "</table>\n",
       "</div>"
      ],
      "text/plain": [
       "     County   Voters  Votes_Dem_Prim  Votes_Rep_Prim  White  \\\n",
       "0  ANDERSON  29128.0           918.0          7081.0  41263   \n",
       "1   ANDREWS  10212.0            88.0          2073.0  14810   \n",
       "2  ANGELINA  53073.0          1565.0         10149.0  67464   \n",
       "3   ARANSAS  18239.0           659.0          4408.0  21282   \n",
       "4    ARCHER   6490.0            89.0          1920.0   8269   \n",
       "\n",
       "   Black or African American  American Indian and Alaska Native  Asian  \\\n",
       "0                      12114                                237    350   \n",
       "1                        418                                  0     57   \n",
       "2                      13194                                270    968   \n",
       "3                         79                                218    275   \n",
       "4                         96                                128     15   \n",
       "\n",
       "   Native Hawaiian Pacific Islander  Other Race  Median Income  Median Age  \\\n",
       "0                                 9        3944        19168.0        39.3   \n",
       "1                                26        2916        32217.0        32.3   \n",
       "2                                 5        5218        23878.0        37.6   \n",
       "3                                 0        2366        32050.0        50.0   \n",
       "4                                 0         246        34557.0        44.2   \n",
       "\n",
       "   Sex Ratio Total population  \n",
       "0      157.6           57,917  \n",
       "1       98.4           18,227  \n",
       "2       95.7           87,119  \n",
       "3       98.1           24,220  \n",
       "4      100.6            8,754  "
      ]
     },
     "execution_count": 324,
     "metadata": {},
     "output_type": "execute_result"
    }
   ],
   "source": [
    "pop22.head()"
   ]
  },
  {
   "cell_type": "code",
   "execution_count": 325,
   "id": "42a778fa",
   "metadata": {},
   "outputs": [],
   "source": [
    "past_turnout_X = past_turnout[['Votes_Dem_Prim',\n",
    "       'Votes_Rep_Prim', 'White', 'Black or African American',\n",
    "       'American Indian and Alaska Native', 'Asian',\n",
    "       'Native Hawaiian Pacific Islander', 'Other Race', 'Median Income',\n",
    "       'Median Age', 'Sex Ratio']] #took out 'Voters', bc that could be really correlated w/ turnout %\n",
    "past_turnout_Y = past_turnout[['Turnout']]\n",
    "turnout_22X = pop22[['Votes_Dem_Prim',\n",
    "       'Votes_Rep_Prim', 'White', 'Black or African American',\n",
    "       'American Indian and Alaska Native', 'Asian',\n",
    "       'Native Hawaiian Pacific Islander', 'Other Race', 'Median Income',\n",
    "       'Median Age', 'Sex Ratio']]"
   ]
  },
  {
   "cell_type": "code",
   "execution_count": 326,
   "id": "612c1668",
   "metadata": {},
   "outputs": [
    {
     "name": "stdout",
     "output_type": "stream",
     "text": [
      "Predicting Turnout Percentages\n",
      "Average R squared value of test data: 0.33671349735854145\n",
      "Average prediction: 6706094.223411109\n"
     ]
    }
   ],
   "source": [
    "#try predicting 2022 turnout (multiply by population to get results)\n",
    "\n",
    "r = []\n",
    "pred = []\n",
    "\n",
    "for i in range(100):\n",
    "    X_train, X_test, y_train, y_test = train_test_split(past_turnout_X, past_turnout_Y, test_size = 0.2)\n",
    "    lr = LinearRegression()\n",
    "    lr.fit(X_train, y_train)\n",
    "    score = lr.score(X_test,y_test)\n",
    "    r.append(score)\n",
    "    percentages = lr.predict(turnout_22X)\n",
    "    sum = 0\n",
    "    for i in range(len(percentages)):\n",
    "        sum += percentages[i] * pop22['Voters'][i]\n",
    "    pred.append(sum)\n",
    "\n",
    "#print(lr.predict(X_test))\n",
    "print(\"Predicting Turnout Percentages\")\n",
    "print(\"Average R squared value of test data:\", np.sum(r)/len(r))\n",
    "print(\"Average prediction:\", np.sum(pred)/len(pred))"
   ]
  },
  {
   "cell_type": "code",
   "execution_count": 327,
   "id": "8c285562",
   "metadata": {
    "scrolled": true
   },
   "outputs": [
    {
     "name": "stdout",
     "output_type": "stream",
     "text": [
      "Predicting Turnout Percentages after Scaling Data\n",
      "Average R squared value of test data: 0.33023021786175144\n",
      "Average prediction: 6704466.283402189\n"
     ]
    }
   ],
   "source": [
    "#scaling & predicting turnout percentages\n",
    "r_s = []\n",
    "pred_s = []\n",
    "\n",
    "for i in range(100):\n",
    "    #initialize\n",
    "    sclr = StandardScaler()\n",
    "    lr = LinearRegression()\n",
    "    #split & scale data\n",
    "    X_train, X_test, y_train, y_test = train_test_split(past_turnout_X, past_turnout_Y, test_size = 0.2)\n",
    "    X_train = sclr.fit_transform(X_train)\n",
    "    X_test = sclr.transform(X_test)\n",
    "    X_pred = sclr.transform(turnout_22X)\n",
    "    #fit model\n",
    "    lr.fit(X_train, y_train)\n",
    "    score = lr.score(X_test,y_test) #lr.score is same as metrics r^2 score\n",
    "    r_s.append(score)\n",
    "    #prediction\n",
    "    percentages = lr.predict(X_pred)\n",
    "    sum = 0\n",
    "    for i in range(len(percentages)):\n",
    "        sum += percentages[i] * pop22['Voters'][i]\n",
    "    pred_s.append(sum)\n",
    "\n",
    "print(\"Predicting Turnout Percentages after Scaling Data\")\n",
    "print(\"Average R squared value of test data:\", np.sum(r_s)/len(r_s))\n",
    "print(\"Average prediction:\", np.sum(pred_s)/len(pred_s))\n",
    "#my r^2 is still low"
   ]
  },
  {
   "cell_type": "markdown",
   "id": "736f30df",
   "metadata": {},
   "source": [
    "### Takeaways from Linear Regression: <br>\n",
    "<p>\n",
    "Scaling: did not make a difference when predicting with votes or turnout percentages.<br>\n",
    "R^2 was high 90s when using 2010,2014,2018 and just 2018 data to predict votes. Oddly enough, some counties would show a predicted negative number of votes. This predicted around 7 million votes <br>\n",
    "R^2 was low 30s when using 2010,2014,2018 data to predict turnout percentages. This predicted around 6.5 million votes. <p>"
   ]
  },
  {
   "cell_type": "markdown",
   "id": "15eb7637",
   "metadata": {},
   "source": [
    "## Trying PCA & Random Forest Regression (will scale data first)"
   ]
  },
  {
   "cell_type": "markdown",
   "id": "bdde1cdf",
   "metadata": {},
   "source": [
    "<p>  https://levelup.gitconnected.com/random-forest-regression-209c0f354c84 <p>"
   ]
  },
  {
   "cell_type": "code",
   "execution_count": 328,
   "id": "08f598e6",
   "metadata": {},
   "outputs": [
    {
     "data": {
      "text/plain": [
       "(609, 11)"
      ]
     },
     "execution_count": 328,
     "metadata": {},
     "output_type": "execute_result"
    }
   ],
   "source": [
    "#split data into train and test\n",
    "\n",
    "#taking out random state actually made my r^2 vals higher in first trial\n",
    "X_train, X_test, y_train, y_test = train_test_split(past_turnout_X, past_turnout_Y, test_size = 0.2)\n",
    "X_train.shape"
   ]
  },
  {
   "cell_type": "code",
   "execution_count": 329,
   "id": "ce501f28",
   "metadata": {},
   "outputs": [],
   "source": [
    "#normalize \n",
    "\n",
    "sc = StandardScaler()\n",
    "X_train = sc.fit_transform(X_train)\n",
    "X_test = sc.transform(X_test)"
   ]
  },
  {
   "cell_type": "code",
   "execution_count": 330,
   "id": "f9230c2c",
   "metadata": {},
   "outputs": [],
   "source": [
    "from sklearn.decomposition import PCA\n",
    "\n",
    "pca = PCA() #did not specify # of components, so all will be returned\n",
    "X_train_pca = pca.fit_transform(X_train)\n",
    "X_test_pca = pca.transform(X_test)"
   ]
  },
  {
   "cell_type": "code",
   "execution_count": 331,
   "id": "519e0863",
   "metadata": {},
   "outputs": [
    {
     "data": {
      "text/plain": [
       "array([0.64832606, 0.1275179 , 0.08129058, 0.05944492, 0.03152684,\n",
       "       0.02560725, 0.00907261, 0.0080749 , 0.0051132 , 0.00229043,\n",
       "       0.0017353 ])"
      ]
     },
     "execution_count": 331,
     "metadata": {},
     "output_type": "execute_result"
    }
   ],
   "source": [
    "explained_variance = pca.explained_variance_ratio_\n",
    "explained_variance #first two components responsible for 77% "
   ]
  },
  {
   "cell_type": "code",
   "execution_count": 332,
   "id": "929ea61e",
   "metadata": {},
   "outputs": [
    {
     "name": "stdout",
     "output_type": "stream",
     "text": [
      "Variance Ratio: [0.64832606 0.1275179  0.08129058]\n"
     ]
    },
    {
     "data": {
      "text/plain": [
       "0.30137080324377674"
      ]
     },
     "execution_count": 332,
     "metadata": {},
     "output_type": "execute_result"
    }
   ],
   "source": [
    "#random forest regression w pca of 3 components\n",
    "pca3 = PCA(n_components = 3)\n",
    "X_train_pca3 = pca3.fit_transform(X_train)\n",
    "X_test_pca3 = pca3.transform(X_test)\n",
    "print(\"Variance Ratio:\", pca3.explained_variance_ratio_)\n",
    "\n",
    "from sklearn.ensemble import RandomForestRegressor\n",
    "#want to use randomforestregressor, not classifier, bc\n",
    "#my y is numbers, not labels\n",
    "\n",
    "classifier = RandomForestRegressor()\n",
    "#classifier.fit(X_train_pca3, y_train)\n",
    "#Got an error saying \"A column-vector y was passed when a 1d array was expected. \n",
    "#Please change the shape of y to (n_samples,), for example using ravel().\"\n",
    "classifier.fit(X_train_pca3, y_train.values.ravel())\n",
    "\n",
    "# Predicting the Test set results\n",
    "y_pred = classifier.predict(X_test_pca3)\n",
    "\n",
    "# Performance Evaluation <- doesn't support continous variables\n",
    "#from sklearn.metrics import confusion_matrix\n",
    "#from sklearn.metrics import accuracy_score\n",
    "#cm = confusion_matrix(y_test, y_pred)\n",
    "#print(cm)\n",
    "#print('Accuracy' + accuracy_score(y_test, y_pred))\n",
    "\n",
    "from sklearn.metrics import r2_score\n",
    "r2_score(y_test, y_pred) #r2 of 29.7 is incredibly low"
   ]
  },
  {
   "cell_type": "code",
   "execution_count": 333,
   "id": "85573aaa",
   "metadata": {},
   "outputs": [
    {
     "name": "stdout",
     "output_type": "stream",
     "text": [
      "Variance Ratio: [0.64832606 0.1275179 ]\n"
     ]
    },
    {
     "data": {
      "text/plain": [
       "0.20955549535759455"
      ]
     },
     "execution_count": 333,
     "metadata": {},
     "output_type": "execute_result"
    }
   ],
   "source": [
    "#random forest regression w pca of 2 components\n",
    "pca2 = PCA(n_components = 2)\n",
    "X_train_pca2 = pca2.fit_transform(X_train)\n",
    "X_test_pca2 = pca2.transform(X_test)\n",
    "print(\"Variance Ratio:\", pca2.explained_variance_ratio_)\n",
    "\n",
    "\n",
    "classifier2 = RandomForestRegressor(random_state=0)\n",
    "classifier2.fit(X_train_pca2, y_train.values.ravel())\n",
    "\n",
    "# Predicting the Test set results\n",
    "y_pred2 = classifier2.predict(X_test_pca2)\n",
    "\n",
    "# Performance Evaluation <- doesn't support continous variables\n",
    "from sklearn.metrics import r2_score\n",
    "r2_score(y_test, y_pred2) #r2 of 23.6 is incredibly low"
   ]
  },
  {
   "cell_type": "code",
   "execution_count": 334,
   "id": "8a404d64",
   "metadata": {},
   "outputs": [
    {
     "name": "stdout",
     "output_type": "stream",
     "text": [
      "Variance Ratio: [0.64832606]\n"
     ]
    },
    {
     "data": {
      "text/plain": [
       "-0.46865660527337805"
      ]
     },
     "execution_count": 334,
     "metadata": {},
     "output_type": "execute_result"
    }
   ],
   "source": [
    "#random forest regression w pca of 1 components\n",
    "pca1 = PCA(n_components = 1)\n",
    "X_train_pca1 = pca1.fit_transform(X_train)\n",
    "X_test_pca1 = pca1.transform(X_test)\n",
    "print(\"Variance Ratio:\", pca1.explained_variance_ratio_)\n",
    "\n",
    "\n",
    "classifier1 = RandomForestRegressor(random_state=0)\n",
    "classifier1.fit(X_train_pca1, y_train.values.ravel())\n",
    "\n",
    "# Predicting the Test set results\n",
    "y_pred1 = classifier1.predict(X_test_pca1)\n",
    "\n",
    "# Performance Evaluation <- doesn't support continous variables\n",
    "from sklearn.metrics import r2_score\n",
    "r2_score(y_test, y_pred1) #r2 is actually negative"
   ]
  },
  {
   "cell_type": "code",
   "execution_count": 335,
   "id": "b4e1b0d7",
   "metadata": {},
   "outputs": [
    {
     "data": {
      "text/plain": [
       "(609, 11)"
      ]
     },
     "execution_count": 335,
     "metadata": {},
     "output_type": "execute_result"
    }
   ],
   "source": [
    "X_train.shape"
   ]
  },
  {
   "cell_type": "code",
   "execution_count": 336,
   "id": "e703abc8",
   "metadata": {},
   "outputs": [
    {
     "data": {
      "text/plain": [
       "(609, 11)"
      ]
     },
     "execution_count": 336,
     "metadata": {},
     "output_type": "execute_result"
    }
   ],
   "source": [
    "X_train_pca.shape"
   ]
  },
  {
   "cell_type": "code",
   "execution_count": 337,
   "id": "666bcb8c",
   "metadata": {},
   "outputs": [],
   "source": [
    "#all of my r^2 values when i use random forest regressor to \n",
    "#predict turnout % are really low"
   ]
  },
  {
   "cell_type": "markdown",
   "id": "3fd56367",
   "metadata": {},
   "source": [
    "### theory: r^2 is lower predicting turnout compared to predicting votes"
   ]
  },
  {
   "cell_type": "code",
   "execution_count": 338,
   "id": "42da1dcd",
   "metadata": {},
   "outputs": [
    {
     "name": "stdout",
     "output_type": "stream",
     "text": [
      "[6.82799137e-01 1.12749937e-01 7.51990758e-02 5.55672661e-02\n",
      " 2.81135243e-02 2.10584630e-02 7.75349631e-03 6.40906346e-03\n",
      " 5.81977186e-03 2.55660281e-03 1.43747509e-03 5.36187160e-04]\n"
     ]
    }
   ],
   "source": [
    "#redefine variables\n",
    "X_all = prior_elections[['Voters', 'Votes_Dem_Prim', 'Votes_Rep_Prim',\n",
    "       'White', 'Black or African American',\n",
    "       'American Indian and Alaska Native', 'Asian',\n",
    "       'Native Hawaiian Pacific Islander', 'Other Race', 'Median Income',\n",
    "       'Median Age', 'Sex Ratio']]\n",
    "y_all = prior_elections[[\"Votes\"]]\n",
    "X22 = data22[['Voters', 'Votes_Dem_Prim', 'Votes_Rep_Prim',\n",
    "       'White', 'Black or African American',\n",
    "       'American Indian and Alaska Native', 'Asian',\n",
    "       'Native Hawaiian Pacific Islander', 'Other Race', 'Median Income',\n",
    "       'Median Age', 'Sex Ratio']]\n",
    "\n",
    "##find num of components to test with\n",
    "\n",
    "#split & scale data\n",
    "X_train, X_test, y_train, y_test = train_test_split(X_all, y_all, test_size = 0.2)\n",
    "sc1 = StandardScaler()\n",
    "X_train = sc1.fit_transform(X_train)\n",
    "X_test = sc1.transform(X_test)\n",
    "\n",
    "#pca\n",
    "pca = PCA() #did not specify # of components, so all will be returned\n",
    "X_train = pca.fit_transform(X_train)\n",
    "X_test = pca.transform(X_test)\n",
    "print(pca.explained_variance_ratio_) #use first two components"
   ]
  },
  {
   "cell_type": "code",
   "execution_count": 339,
   "id": "f8654b0d",
   "metadata": {},
   "outputs": [
    {
     "name": "stdout",
     "output_type": "stream",
     "text": [
      "0.9497913117973557\n"
     ]
    }
   ],
   "source": [
    "reg = RandomForestRegressor()\n",
    "reg.fit(X_train, y_train.values.ravel())\n",
    "\n",
    "# Predicting the Test set results\n",
    "y_pred = reg.predict(X_test)\n",
    "\n",
    "# Performance Evaluation \n",
    "from sklearn.metrics import r2_score\n",
    "val = 0\n",
    "for i in range(20):\n",
    "    val += r2_score(y_test, y_pred) \n",
    "print(val/20) #average r2 is btwn 95-99, this is high\n",
    "\n",
    "#why does predicting votes vs predicting turnout % make such a difference?"
   ]
  },
  {
   "cell_type": "code",
   "execution_count": 340,
   "id": "09aecc9f",
   "metadata": {
    "scrolled": false
   },
   "outputs": [
    {
     "name": "stdout",
     "output_type": "stream",
     "text": [
      "Without Scaling 143402503.91\n",
      "With Scaling 6044928.5\n"
     ]
    }
   ],
   "source": [
    "#apply these predictions to 2022\n",
    "\n",
    "#without scaling data\n",
    "print(\"Without Scaling\", np.sum(reg.predict(X22)))\n",
    "    #this num is incredibly high, we must scale data\n",
    "\n",
    "#scale data first\n",
    "X22sc = sc1.transform(X22)\n",
    "X22sc = pca.transform(X22sc)\n",
    "print(\"With Scaling\", np.sum(reg.predict(X22sc)))"
   ]
  },
  {
   "cell_type": "markdown",
   "id": "74602bbe",
   "metadata": {},
   "source": [
    "### Takeaways from PCA/Random Forest Regression <p> \n",
    "If you scale train/test data, scale the data you are predicting with <br>\n",
    "For some reason, r^2 values a lot higher when predicting votes rather than turnout, even after scaling data. Not sure why this is happening. <p>"
   ]
  },
  {
   "cell_type": "markdown",
   "id": "f622561f",
   "metadata": {},
   "source": [
    "## Trying LASSO method"
   ]
  },
  {
   "cell_type": "markdown",
   "id": "2e98e287",
   "metadata": {},
   "source": [
    "<p> https://towardsdatascience.com/ridge-and-lasso-regression-a-complete-guide-with-python-scikit-learn-e20e34bcbf0b \"reduce model complexity and prevent over-fitting which may result from simple linear regression\" <p>"
   ]
  },
  {
   "cell_type": "code",
   "execution_count": 341,
   "id": "b55b2011",
   "metadata": {},
   "outputs": [],
   "source": [
    "#redefine variables \n",
    "past_turnout_X = past_turnout[['Votes_Dem_Prim',\n",
    "       'Votes_Rep_Prim', 'White', 'Black or African American',\n",
    "       'American Indian and Alaska Native', 'Asian',\n",
    "       'Native Hawaiian Pacific Islander', 'Other Race', 'Median Income',\n",
    "       'Median Age', 'Sex Ratio']] #took out 'Voters', bc that could be really correlated w/ turnout %\n",
    "past_turnout_Y = past_turnout[['Turnout']]\n",
    "turnout_22X = pop22[['Votes_Dem_Prim',\n",
    "       'Votes_Rep_Prim', 'White', 'Black or African American',\n",
    "       'American Indian and Alaska Native', 'Asian',\n",
    "       'Native Hawaiian Pacific Islander', 'Other Race', 'Median Income',\n",
    "       'Median Age', 'Sex Ratio']]"
   ]
  },
  {
   "cell_type": "code",
   "execution_count": 342,
   "id": "10df90ee",
   "metadata": {
    "scrolled": true
   },
   "outputs": [
    {
     "name": "stdout",
     "output_type": "stream",
     "text": [
      "training r^2 score: 0.2666566305749888\n",
      "test r^2 score:  0.3494802339623069\n",
      "number of features used:  8\n"
     ]
    }
   ],
   "source": [
    "from sklearn.linear_model import Lasso\n",
    "\n",
    "#gives us low r^2\n",
    "X_train,X_test,y_train,y_test=train_test_split(past_turnout_X,past_turnout_Y, test_size=0.25)\n",
    "lasso = Lasso()\n",
    "lasso.fit(X_train,y_train)\n",
    "train_score=lasso.score(X_train,y_train)\n",
    "test_score=lasso.score(X_test,y_test)\n",
    "coeff_used = np.sum(lasso.coef_!=0)\n",
    "print(\"training r^2 score:\", train_score) \n",
    "print(\"test r^2 score: \", test_score) \n",
    "print(\"number of features used: \", coeff_used) "
   ]
  },
  {
   "cell_type": "code",
   "execution_count": 343,
   "id": "366cddaf",
   "metadata": {},
   "outputs": [],
   "source": [
    "#come back to LASSO, first i want to just try logistic regression"
   ]
  },
  {
   "cell_type": "code",
   "execution_count": 344,
   "id": "f664f618",
   "metadata": {},
   "outputs": [],
   "source": [
    "#Predict # of votes w/o scaling\n",
    "past_turnout_X = past_turnout[['Votes_Dem_Prim',\n",
    "       'Votes_Rep_Prim', 'White', 'Black or African American',\n",
    "       'American Indian and Alaska Native', 'Asian',\n",
    "       'Native Hawaiian Pacific Islander', 'Other Race', 'Median Income',\n",
    "       'Median Age', 'Sex Ratio']] #took out 'Voters', bc that could be really correlated w/ turnout %\n",
    "past_turnout_Y = past_turnout[['Turnout']]\n",
    "turnout_22X = pop22[['Votes_Dem_Prim',\n",
    "       'Votes_Rep_Prim', 'White', 'Black or African American',\n",
    "       'American Indian and Alaska Native', 'Asian',\n",
    "       'Native Hawaiian Pacific Islander', 'Other Race', 'Median Income',\n",
    "       'Median Age', 'Sex Ratio']]\n",
    "X_train,X_test,y_train,y_test=train_test_split(past_turnout_X,past_turnout_Y, test_size=0.2)\n",
    "\n",
    "#from sklearn.linear_model import LogisticRegression #import class\n",
    "#lrr = LogisticRegression()\n",
    "#lrr.fit(X_train,y_train)\n",
    "#y_pred = lrr.predict(X_test)\n",
    "#r2_score(y_test,y_pred)\n",
    "\n",
    "#https://statisticsbyjim.com/regression/choosing-regression-analysis/\n",
    "    #LOGISTIC REGRESSION CANNOT BE USED FOR CONTINOUS DEPENDENT VARIABLES"
   ]
  },
  {
   "cell_type": "markdown",
   "id": "309daaaf",
   "metadata": {},
   "source": [
    "<p> <b> Note to self on accuracy score: </b> <br> \n",
    "    sklearn.metrics.r2_score is for regression/continous variables <br>\n",
    "    sklearn.metrics.accuracy_score is for classification <p>"
   ]
  },
  {
   "cell_type": "markdown",
   "id": "3166c18a",
   "metadata": {},
   "source": [
    "## Let's take a step back. Let's look at how our variables are correlated. "
   ]
  },
  {
   "cell_type": "code",
   "execution_count": 345,
   "id": "eead585f",
   "metadata": {},
   "outputs": [
    {
     "data": {
      "text/html": [
       "<div>\n",
       "<style scoped>\n",
       "    .dataframe tbody tr th:only-of-type {\n",
       "        vertical-align: middle;\n",
       "    }\n",
       "\n",
       "    .dataframe tbody tr th {\n",
       "        vertical-align: top;\n",
       "    }\n",
       "\n",
       "    .dataframe thead th {\n",
       "        text-align: right;\n",
       "    }\n",
       "</style>\n",
       "<table border=\"1\" class=\"dataframe\">\n",
       "  <thead>\n",
       "    <tr style=\"text-align: right;\">\n",
       "      <th></th>\n",
       "      <th>County</th>\n",
       "      <th>Turnout</th>\n",
       "      <th>Votes</th>\n",
       "      <th>Voters</th>\n",
       "      <th>Votes_Dem_Prim</th>\n",
       "      <th>Votes_Rep_Prim</th>\n",
       "      <th>White</th>\n",
       "      <th>Black or African American</th>\n",
       "      <th>American Indian and Alaska Native</th>\n",
       "      <th>Asian</th>\n",
       "      <th>Native Hawaiian Pacific Islander</th>\n",
       "      <th>Other Race</th>\n",
       "      <th>Median Income</th>\n",
       "      <th>Median Age</th>\n",
       "      <th>Sex Ratio</th>\n",
       "    </tr>\n",
       "  </thead>\n",
       "  <tbody>\n",
       "    <tr>\n",
       "      <th>0</th>\n",
       "      <td>ANDERSON_10</td>\n",
       "      <td>0.4097</td>\n",
       "      <td>10968</td>\n",
       "      <td>26768</td>\n",
       "      <td>1169</td>\n",
       "      <td>4516</td>\n",
       "      <td>42302</td>\n",
       "      <td>12507</td>\n",
       "      <td>379</td>\n",
       "      <td>307</td>\n",
       "      <td>64</td>\n",
       "      <td>2457</td>\n",
       "      <td>17465.0</td>\n",
       "      <td>38.5</td>\n",
       "      <td>148.8</td>\n",
       "    </tr>\n",
       "    <tr>\n",
       "      <th>1</th>\n",
       "      <td>ANDREWS_10</td>\n",
       "      <td>0.4814</td>\n",
       "      <td>4053</td>\n",
       "      <td>8419</td>\n",
       "      <td>245</td>\n",
       "      <td>1261</td>\n",
       "      <td>11707</td>\n",
       "      <td>148</td>\n",
       "      <td>293</td>\n",
       "      <td>111</td>\n",
       "      <td>0</td>\n",
       "      <td>1789</td>\n",
       "      <td>29605.0</td>\n",
       "      <td>34.6</td>\n",
       "      <td>101.0</td>\n",
       "    </tr>\n",
       "    <tr>\n",
       "      <th>2</th>\n",
       "      <td>ANGELINA_10</td>\n",
       "      <td>0.4050</td>\n",
       "      <td>19305</td>\n",
       "      <td>47667</td>\n",
       "      <td>3140</td>\n",
       "      <td>5053</td>\n",
       "      <td>65373</td>\n",
       "      <td>12996</td>\n",
       "      <td>299</td>\n",
       "      <td>599</td>\n",
       "      <td>22</td>\n",
       "      <td>5965</td>\n",
       "      <td>20104.0</td>\n",
       "      <td>35.7</td>\n",
       "      <td>95.6</td>\n",
       "    </tr>\n",
       "    <tr>\n",
       "      <th>3</th>\n",
       "      <td>ARANSAS_10</td>\n",
       "      <td>0.4381</td>\n",
       "      <td>6895</td>\n",
       "      <td>15739</td>\n",
       "      <td>446</td>\n",
       "      <td>2471</td>\n",
       "      <td>21134</td>\n",
       "      <td>267</td>\n",
       "      <td>92</td>\n",
       "      <td>346</td>\n",
       "      <td>0</td>\n",
       "      <td>1408</td>\n",
       "      <td>25610.0</td>\n",
       "      <td>46.8</td>\n",
       "      <td>93.9</td>\n",
       "    </tr>\n",
       "    <tr>\n",
       "      <th>4</th>\n",
       "      <td>ARCHER_10</td>\n",
       "      <td>0.4382</td>\n",
       "      <td>2865</td>\n",
       "      <td>6538</td>\n",
       "      <td>197</td>\n",
       "      <td>1187</td>\n",
       "      <td>8742</td>\n",
       "      <td>63</td>\n",
       "      <td>0</td>\n",
       "      <td>107</td>\n",
       "      <td>0</td>\n",
       "      <td>143</td>\n",
       "      <td>23882.0</td>\n",
       "      <td>41.4</td>\n",
       "      <td>102.8</td>\n",
       "    </tr>\n",
       "  </tbody>\n",
       "</table>\n",
       "</div>"
      ],
      "text/plain": [
       "        County  Turnout  Votes  Voters  Votes_Dem_Prim  Votes_Rep_Prim  White  \\\n",
       "0  ANDERSON_10   0.4097  10968   26768            1169            4516  42302   \n",
       "1   ANDREWS_10   0.4814   4053    8419             245            1261  11707   \n",
       "2  ANGELINA_10   0.4050  19305   47667            3140            5053  65373   \n",
       "3   ARANSAS_10   0.4381   6895   15739             446            2471  21134   \n",
       "4    ARCHER_10   0.4382   2865    6538             197            1187   8742   \n",
       "\n",
       "   Black or African American  American Indian and Alaska Native  Asian  \\\n",
       "0                      12507                                379    307   \n",
       "1                        148                                293    111   \n",
       "2                      12996                                299    599   \n",
       "3                        267                                 92    346   \n",
       "4                         63                                  0    107   \n",
       "\n",
       "   Native Hawaiian Pacific Islander  Other Race  Median Income  Median Age  \\\n",
       "0                                64        2457        17465.0        38.5   \n",
       "1                                 0        1789        29605.0        34.6   \n",
       "2                                22        5965        20104.0        35.7   \n",
       "3                                 0        1408        25610.0        46.8   \n",
       "4                                 0         143        23882.0        41.4   \n",
       "\n",
       "   Sex Ratio  \n",
       "0      148.8  \n",
       "1      101.0  \n",
       "2       95.6  \n",
       "3       93.9  \n",
       "4      102.8  "
      ]
     },
     "execution_count": 345,
     "metadata": {},
     "output_type": "execute_result"
    }
   ],
   "source": [
    "past_turnout.head()"
   ]
  },
  {
   "cell_type": "code",
   "execution_count": 346,
   "id": "77e42e46",
   "metadata": {},
   "outputs": [
    {
     "name": "stdout",
     "output_type": "stream",
     "text": [
      "Correlation with Median Age & Turnout 0.42191744389207153\n",
      "Correlation with Median Age & Votes -0.20938529219431695\n"
     ]
    }
   ],
   "source": [
    "print(\"Correlation with Median Age & Turnout\", past_turnout[\"Median Age\"].corr(past_turnout[\"Turnout\"]))\n",
    "print(\"Correlation with Median Age & Votes\", past_turnout[\"Median Age\"].corr(past_turnout[\"Votes\"]))\n",
    "#these are contradictory, but it makes sense to look at turnout, not votes\n",
    "#bc votes is highly dependent on voters"
   ]
  },
  {
   "cell_type": "code",
   "execution_count": 347,
   "id": "b07e749c",
   "metadata": {},
   "outputs": [
    {
     "name": "stdout",
     "output_type": "stream",
     "text": [
      "Correlation with Median Income & Turnout 0.5053400618243623\n",
      "Correlation with Sex Ratio & Turnout -0.018898098214271762\n"
     ]
    }
   ],
   "source": [
    "print(\"Correlation with Median Income & Turnout\", past_turnout[\"Median Income\"].corr(past_turnout[\"Turnout\"]))\n",
    "print(\"Correlation with Sex Ratio & Turnout\", past_turnout[\"Sex Ratio\"].corr(past_turnout[\"Turnout\"]))\n",
    "    #sex ratio is males per 100 females. a higher sex ratio = more males\n",
    "    #because it's inversely correlated, more women --> more votes\n",
    "    #very loose correlation, however"
   ]
  },
  {
   "cell_type": "code",
   "execution_count": 348,
   "id": "75a62117",
   "metadata": {},
   "outputs": [
    {
     "name": "stdout",
     "output_type": "stream",
     "text": [
      "Correlation with Nonwhite Population & Turnout -0.10940891272409702\n",
      "Correlation with White Population & Turnout 0.109408912724097\n"
     ]
    }
   ],
   "source": [
    "#check how correlations are different with white & nonwhite populations\n",
    "#make a nonwhite column\n",
    "past_turnout[\"Nonwhite\"] = past_turnout['Black or African American'] + past_turnout['American Indian and Alaska Native'] + past_turnout['Asian'] + past_turnout['Native Hawaiian Pacific Islander'] + past_turnout['Other Race']\n",
    "past_turnout[\"Total Population\"] = past_turnout[\"Nonwhite\"] + past_turnout[\"White\"]\n",
    "\n",
    "#make white/nonwhite population in terms of whole popultion\n",
    "past_turnout[\"White Ratio\"] = past_turnout[\"White\"]/past_turnout[\"Total Population\"]\n",
    "past_turnout[\"Nonwhite Ratio\"] = past_turnout[\"Nonwhite\"]/past_turnout[\"Total Population\"]\n",
    "print(\"Correlation with Nonwhite Population & Turnout\", past_turnout[\"Nonwhite Ratio\"].corr(past_turnout[\"Turnout\"]))\n",
    "print(\"Correlation with White Population & Turnout\", past_turnout[\"White Ratio\"].corr(past_turnout[\"Turnout\"]))\n",
    "#evidently, a higher nonwhite percentage leads to lower turnout, while a higher white percentage leads to higher turnout\n",
    "#in the end, though, neither are really all that correlated"
   ]
  },
  {
   "cell_type": "code",
   "execution_count": 349,
   "id": "608680b1",
   "metadata": {},
   "outputs": [
    {
     "name": "stdout",
     "output_type": "stream",
     "text": [
      "Correlation with Primary Turnout & General Turnout 0.27941733606514146\n"
     ]
    }
   ],
   "source": [
    "#let's look at primary engagement as a factor\n",
    "past_turnout['Primary Turnout'] = (past_turnout['Votes_Dem_Prim'] + past_turnout['Votes_Rep_Prim'])/past_turnout['Voters']\n",
    "print(\"Correlation with Primary Turnout & General Turnout\", past_turnout[\"Primary Turnout\"].corr(past_turnout[\"Turnout\"]))\n",
    "#the higher the primary turnout, the higher the actual turnout"
   ]
  },
  {
   "cell_type": "code",
   "execution_count": 350,
   "id": "2ee65761",
   "metadata": {},
   "outputs": [
    {
     "name": "stdout",
     "output_type": "stream",
     "text": [
      "Correlation with # of Registered Voters & General Turnout -0.022961667829335404\n"
     ]
    }
   ],
   "source": [
    "print(\"Correlation with # of Registered Voters & General Turnout\", past_turnout[\"Voters\"].corr(past_turnout[\"Turnout\"]))"
   ]
  },
  {
   "cell_type": "markdown",
   "id": "9d912044",
   "metadata": {},
   "source": [
    "evidently, counties with older, richer populations are more likely to turnout. race, sex ratio, county size (# of registered voters) does not make much of a difference. \n",
    "larger primary turnout leads to slighty larger general turnout"
   ]
  },
  {
   "cell_type": "code",
   "execution_count": 351,
   "id": "6d6d2f99",
   "metadata": {},
   "outputs": [],
   "source": [
    "#do linear regression but w only the more correlated factors\n",
    "#primary turnout, median age, median income\n",
    "#pull out variables & manually play with them\n",
    "#can also try a thing where i add all their correlations \n",
    "#& give each factor a certain weight based off its weight in the\n",
    "#overall correlation"
   ]
  },
  {
   "cell_type": "code",
   "execution_count": 352,
   "id": "dc23db25",
   "metadata": {},
   "outputs": [],
   "source": [
    "#Linear Regression with median age, median income, & primary turnout\n",
    "factors = [past_turnout[\"Median Age\"], past_turnout[\"Median Income\"], past_turnout[\"Primary Turnout\"]]\n",
    "#first, make sure no two variables are highly correlated\n",
    "for i in factors:\n",
    "    for j in factors:\n",
    "        if i.equals(j) == False:\n",
    "            a = i.corr(j)\n",
    "            #print(a)\n",
    "            if a > 0.7:\n",
    "                print(\"Highly Correlated,\", i[0], j[0])\n",
    "            elif a > 0.5:\n",
    "                print(\"Medium Correlated,\", i[0], j[0])\n",
    "#yay, none are actually correlated!"
   ]
  },
  {
   "cell_type": "code",
   "execution_count": 353,
   "id": "9e2b5ff6",
   "metadata": {},
   "outputs": [
    {
     "data": {
      "text/html": [
       "<div>\n",
       "<style scoped>\n",
       "    .dataframe tbody tr th:only-of-type {\n",
       "        vertical-align: middle;\n",
       "    }\n",
       "\n",
       "    .dataframe tbody tr th {\n",
       "        vertical-align: top;\n",
       "    }\n",
       "\n",
       "    .dataframe thead th {\n",
       "        text-align: right;\n",
       "    }\n",
       "</style>\n",
       "<table border=\"1\" class=\"dataframe\">\n",
       "  <thead>\n",
       "    <tr style=\"text-align: right;\">\n",
       "      <th></th>\n",
       "      <th>Median Income</th>\n",
       "      <th>Median Age</th>\n",
       "      <th>Primary Turnout</th>\n",
       "    </tr>\n",
       "  </thead>\n",
       "  <tbody>\n",
       "    <tr>\n",
       "      <th>0</th>\n",
       "      <td>19168.0</td>\n",
       "      <td>39.3</td>\n",
       "      <td>0.274615</td>\n",
       "    </tr>\n",
       "    <tr>\n",
       "      <th>1</th>\n",
       "      <td>32217.0</td>\n",
       "      <td>32.3</td>\n",
       "      <td>0.211614</td>\n",
       "    </tr>\n",
       "    <tr>\n",
       "      <th>2</th>\n",
       "      <td>23878.0</td>\n",
       "      <td>37.6</td>\n",
       "      <td>0.220715</td>\n",
       "    </tr>\n",
       "    <tr>\n",
       "      <th>3</th>\n",
       "      <td>32050.0</td>\n",
       "      <td>50.0</td>\n",
       "      <td>0.277811</td>\n",
       "    </tr>\n",
       "    <tr>\n",
       "      <th>4</th>\n",
       "      <td>34557.0</td>\n",
       "      <td>44.2</td>\n",
       "      <td>0.309553</td>\n",
       "    </tr>\n",
       "  </tbody>\n",
       "</table>\n",
       "</div>"
      ],
      "text/plain": [
       "   Median Income  Median Age  Primary Turnout\n",
       "0        19168.0        39.3         0.274615\n",
       "1        32217.0        32.3         0.211614\n",
       "2        23878.0        37.6         0.220715\n",
       "3        32050.0        50.0         0.277811\n",
       "4        34557.0        44.2         0.309553"
      ]
     },
     "execution_count": 353,
     "metadata": {},
     "output_type": "execute_result"
    }
   ],
   "source": [
    "#set up variables\n",
    "X_past = past_turnout[[\"Median Income\", \"Median Age\", \"Primary Turnout\"]]\n",
    "y_past = past_turnout[\"Turnout\"]\n",
    "X_22 = data22[['Median Income', 'Median Age']]\n",
    "pd.options.mode.chained_assignment = None \n",
    "X_22[\"Primary Turnout\"] = (data22['Votes_Dem_Prim'] + data22['Votes_Rep_Prim'])/data22['Voters']\n",
    "X_22.head()\n",
    "#X_past.head()"
   ]
  },
  {
   "cell_type": "code",
   "execution_count": 354,
   "id": "e1ce9a24",
   "metadata": {},
   "outputs": [
    {
     "name": "stdout",
     "output_type": "stream",
     "text": [
      "Unscaled:  0.3810494168712784\n",
      "Scaled:  0.3744494237341383\n"
     ]
    }
   ],
   "source": [
    "#first, try linear regression + pull out their weights\n",
    "\n",
    "import warnings\n",
    "warnings.filterwarnings('ignore')\n",
    "\n",
    "#unscaled version\n",
    "average_r = 0\n",
    "trials = 100\n",
    "for i in range(trials):\n",
    "    lr_un = LinearRegression()\n",
    "    X_train, X_test, y_train, y_test = train_test_split(X_past, y_past, test_size = 0.2)\n",
    "    lr_un.fit(X_train.values, y_train)\n",
    "    average_r += lr_un.score(X_test.values,y_test)\n",
    "    pred = lr_un.predict(X_22)\n",
    "    #print(lr_un.coef_)\n",
    "average_r = average_r/trials\n",
    "print(\"Unscaled: \", average_r)\n",
    "#average r of .3735\n",
    "\n",
    "#scaled version\n",
    "average_r = 0\n",
    "trials = 100\n",
    "for i in range(trials):\n",
    "    sclr = StandardScaler()\n",
    "    lr_sc = LinearRegression()\n",
    "    X_train, X_test, y_train, y_test = train_test_split(X_past, y_past, test_size = 0.2)\n",
    "    X_train1 = sclr.fit_transform(X_train)\n",
    "    X_test1 = sclr.transform(X_test)\n",
    "    X_221 = sclr.transform(X_22)\n",
    "    lr_sc.fit(X_train1, y_train)\n",
    "    average_r += lr_sc.score(X_test1,y_test)\n",
    "    pred = lr_sc.predict(X_221)\n",
    "average_r = average_r/trials\n",
    "print(\"Scaled: \", average_r)\n",
    "#average r of .3761"
   ]
  },
  {
   "cell_type": "code",
   "execution_count": 355,
   "id": "10fe32bb",
   "metadata": {},
   "outputs": [
    {
     "name": "stdout",
     "output_type": "stream",
     "text": [
      "Med Income Average Coeff 0.047332540834238976\n",
      "Med Age Average Coeff 0.024413692063940763\n",
      "Primary Turnout Average Coeff 0.0219334839637896\n",
      "Average Coeff Sum 0.09367971686196935\n"
     ]
    }
   ],
   "source": [
    "#i will use the scaled version and pull out the weights of Median Income, Median Age, and Primary Turnout\n",
    "#ls = lr_sc.coef_\n",
    "#ls.sum() #these coeff only add to .091\n",
    "\n",
    "#finding the average weight\n",
    "med_income, med_age, prim_turn, coeff_sum = 0, 0, 0, 0\n",
    "factors = [med_income, med_age, prim_turn, coeff_sum]\n",
    "trials = 100\n",
    "for i in range(trials):\n",
    "    sclr = StandardScaler()\n",
    "    lr_sc = LinearRegression()\n",
    "    X_train, X_test, y_train, y_test = train_test_split(X_past, y_past, test_size = 0.2)\n",
    "    X_train = sclr.fit_transform(X_train)\n",
    "    X_test = sclr.transform(X_test)\n",
    "    X_22 = sclr.transform(X_22)\n",
    "    lr_sc.fit(X_train, y_train)\n",
    "    ls = lr_sc.coef_\n",
    "    med_income += ls[0]\n",
    "    med_age += ls[1]\n",
    "    prim_turn += ls[2]\n",
    "    coeff_sum += ls.sum()\n",
    "med_income = med_income/trials\n",
    "med_age = med_age/trials\n",
    "prim_turn = prim_turn/trials\n",
    "coeff_sum_av = coeff_sum/trials\n",
    "print(\"Med Income Average Coeff\", med_income)\n",
    "print(\"Med Age Average Coeff\", med_age)\n",
    "print(\"Primary Turnout Average Coeff\", prim_turn)\n",
    "print(\"Average Coeff Sum\", coeff_sum_av)"
   ]
  },
  {
   "cell_type": "code",
   "execution_count": 356,
   "id": "87964e2a",
   "metadata": {},
   "outputs": [
    {
     "name": "stdout",
     "output_type": "stream",
     "text": [
      "Med Income Weight 0.5052592217371903\n",
      "Med Age Weight 0.26060808979506916\n",
      "Prim Turnout Weight 0.23413268846774044\n"
     ]
    }
   ],
   "source": [
    "total = med_income + med_age + prim_turn\n",
    "med_income_w = med_income/total\n",
    "med_age_w = med_age/total\n",
    "prim_turn_w = prim_turn/total\n",
    "print(\"Med Income Weight\", med_income_w)\n",
    "print(\"Med Age Weight\", med_age_w)\n",
    "print(\"Prim Turnout Weight\", prim_turn_w)"
   ]
  },
  {
   "cell_type": "code",
   "execution_count": 357,
   "id": "e5d0ea95",
   "metadata": {},
   "outputs": [
    {
     "name": "stdout",
     "output_type": "stream",
     "text": [
      "Med Income Weight 0.4187872692184924\n",
      "Med Age Weight 0.3496529713581651\n",
      "Prim Turnout Weight 0.2315597594233425\n"
     ]
    }
   ],
   "source": [
    "#how do those weights compare to their correlation\n",
    "med_income_corr = past_turnout[\"Median Income\"].corr(past_turnout[\"Turnout\"])\n",
    "med_age_corr = past_turnout[\"Median Age\"].corr(past_turnout[\"Turnout\"])\n",
    "prim_turn_corr = past_turnout[\"Primary Turnout\"].corr(past_turnout[\"Turnout\"])\n",
    "corr_total = med_income_corr + med_age_corr + prim_turn_corr\n",
    "med_income_corr_w = med_income_corr/corr_total\n",
    "med_age_corr_w = med_age_corr/corr_total\n",
    "prim_turn_corr_w = prim_turn_corr/corr_total\n",
    "print(\"Med Income Weight\", med_income_corr_w)\n",
    "print(\"Med Age Weight\", med_age_corr_w)\n",
    "print(\"Prim Turnout Weight\", prim_turn_corr_w)\n",
    "#it seems as those age matters more and income matters less, while primary turnout stays the same"
   ]
  },
  {
   "cell_type": "code",
   "execution_count": 359,
   "id": "c589cd04",
   "metadata": {},
   "outputs": [
    {
     "data": {
      "text/plain": [
       "0.021692452699404466"
      ]
     },
     "execution_count": 359,
     "metadata": {},
     "output_type": "execute_result"
    }
   ],
   "source": [
    "#since the sum of coeff is equal to 0.093, make my new correlation weights sized to that\n",
    "med_income_corr_w = med_income_corr_w * coeff_sum_av\n",
    "med_age_corr_w = med_age_corr_w * coeff_sum_av\n",
    "prim_turn_corr_w = prim_turn_corr_w * coeff_sum_av"
   ]
  },
  {
   "cell_type": "code",
   "execution_count": null,
   "id": "aa141275",
   "metadata": {},
   "outputs": [],
   "source": [
    "#now that i have new coefficients, lets try a lin reg model\n",
    "\n",
    "#how to do linear reg but you choose the weights?"
   ]
  }
 ],
 "metadata": {
  "kernelspec": {
   "display_name": "Python 3 (ipykernel)",
   "language": "python",
   "name": "python3"
  },
  "language_info": {
   "codemirror_mode": {
    "name": "ipython",
    "version": 3
   },
   "file_extension": ".py",
   "mimetype": "text/x-python",
   "name": "python",
   "nbconvert_exporter": "python",
   "pygments_lexer": "ipython3",
   "version": "3.9.7"
  }
 },
 "nbformat": 4,
 "nbformat_minor": 5
}
